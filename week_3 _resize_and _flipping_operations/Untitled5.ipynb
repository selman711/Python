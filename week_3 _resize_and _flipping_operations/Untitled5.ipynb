{
 "cells": [
  {
   "cell_type": "code",
   "execution_count": 1,
   "id": "02347cb3-5f35-4aaf-b02c-0d20e94f9eb8",
   "metadata": {},
   "outputs": [],
   "source": [
    "import cv2\n",
    "import numpy as np"
   ]
  },
  {
   "cell_type": "code",
   "execution_count": 2,
   "id": "c636327b-62dc-4847-ae6c-5e9342af7975",
   "metadata": {},
   "outputs": [
    {
     "name": "stdout",
     "output_type": "stream",
     "text": [
      "(225, 225, 3)\n"
     ]
    }
   ],
   "source": [
    "my_img=cv2.imread(\"./gs.png\",1)\n",
    "print(my_img.shape)"
   ]
  },
  {
   "cell_type": "code",
   "execution_count": 3,
   "id": "93b3760f-33c2-4eba-ae98-7539ceda611a",
   "metadata": {},
   "outputs": [],
   "source": [
    "cv2.imshow(\"RGB image\",my_img)\n",
    "cv2.waitKey(0)\n",
    "cv2.destroyAllWindows()"
   ]
  },
  {
   "cell_type": "code",
   "execution_count": 4,
   "id": "bd5ad6d7-facd-493c-8f2d-dcbd867ea861",
   "metadata": {},
   "outputs": [],
   "source": [
    "img_vertical=cv2.flip(my_img,0)\n",
    "img_horizontal=cv2.flip(my_img,1)\n",
    "img_both=cv2.flip(my_img,-1)"
   ]
  },
  {
   "cell_type": "code",
   "execution_count": 5,
   "id": "6b3604ee-6c30-4a5e-b476-7a9d117af864",
   "metadata": {},
   "outputs": [],
   "source": [
    "cv2.imshow(\"RGB image\",my_img)\n",
    "cv2.waitKey(0)\n",
    "cv2.destroyAllWindows()"
   ]
  },
  {
   "cell_type": "code",
   "execution_count": 6,
   "id": "59ef8db3-32ef-4138-b1e4-fe041240a076",
   "metadata": {},
   "outputs": [],
   "source": [
    "cv2.imshow(\"original image\",my_img)\n",
    "cv2.imshow(\" vimage\",img_vertical)\n",
    "cv2.imshow(\"horizontal image\",img_horizontal)\n",
    "cv2.imshow(\"vertical and horizontal image\",img_both)\n",
    "cv2.waitKey(0)\n",
    "cv2.destroyAllWindows()"
   ]
  },
  {
   "cell_type": "code",
   "execution_count": 7,
   "id": "9cd22360-9ae3-4b0c-a31a-c727fad32822",
   "metadata": {},
   "outputs": [],
   "source": [
    "np.ndarray\n",
    "vetrical_with_code=my_img[::-1,::,:]\n",
    "cv2.imshow(\"vetrical image with code\",img_vertical)\n",
    "cv2.waitKey(0)\n",
    "cv2.destroyAllWindows()"
   ]
  },
  {
   "cell_type": "code",
   "execution_count": 10,
   "id": "7fde51f6-8b5d-4ec7-9ce5-98d9acf436b5",
   "metadata": {},
   "outputs": [
    {
     "name": "stdout",
     "output_type": "stream",
     "text": [
      "(225, 225, 3)\n",
      "görüntünün yüksekliği= 225\n",
      "görüntünün genişliği= 225\n",
      "görüntünün kanal sayısı= 3\n"
     ]
    }
   ],
   "source": [
    "print(my_img.shape)\n",
    "print(f\"görüntünün yüksekliği= {my_img.shape[0]}\")\n",
    "print(f\"görüntünün genişliği= {my_img.shape[1]}\")\n",
    "print(f\"görüntünün kanal sayısı= {my_img.shape[2]}\")\n"
   ]
  },
  {
   "cell_type": "code",
   "execution_count": 22,
   "id": "6a259b2d-90c8-438a-a07d-2f15c1f1a832",
   "metadata": {},
   "outputs": [],
   "source": [
    "resized_img = cv2.resize(my_img,(450,450),cv2.INTER_LANCZOS4)\n",
    "cv2.imshow(\"original image\",my_img)\n",
    "cv2.imshow(\"resized image\",resized_img)\n",
    "cv2.waitKey(0)\n",
    "cv2.destroyAllWindows()"
   ]
  },
  {
   "cell_type": "code",
   "execution_count": null,
   "id": "bba49aab-84d0-4a93-a724-cf3ed035f10d",
   "metadata": {},
   "outputs": [],
   "source": []
  }
 ],
 "metadata": {
  "kernelspec": {
   "display_name": "env_selman",
   "language": "python",
   "name": "env_selman"
  },
  "language_info": {
   "codemirror_mode": {
    "name": "ipython",
    "version": 3
   },
   "file_extension": ".py",
   "mimetype": "text/x-python",
   "name": "python",
   "nbconvert_exporter": "python",
   "pygments_lexer": "ipython3",
   "version": "3.10.14"
  }
 },
 "nbformat": 4,
 "nbformat_minor": 5
}
